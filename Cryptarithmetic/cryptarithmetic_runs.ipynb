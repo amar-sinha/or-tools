{
 "cells": [
  {
   "cell_type": "code",
   "execution_count": 1,
   "metadata": {},
   "outputs": [],
   "source": [
    "import cryptarithmetic"
   ]
  },
  {
   "cell_type": "code",
   "execution_count": 2,
   "metadata": {
    "scrolled": false
   },
   "outputs": [
    {
     "name": "stdout",
     "output_type": "stream",
     "text": [
      "Enter any number of words by entering each\n",
      "word on a new line. For n words, all words up to\n",
      "the (n-1)th word will sum to equal the nth word.\n",
      "send\n",
      "more\n",
      "money\n",
      "\n",
      "SEND + MORE = MONEY\n",
      "\n",
      "S=9 E=5 N=6 D=7 M=1 O=0 R=8 Y=2 \n",
      "\n",
      "Statistics\n",
      "  - status          : OPTIMAL\n",
      "  - conflicts       : 3\n",
      "  - branches        : 3\n",
      "  - wall time       : 0.002502 s\n",
      "  - solutions found : 1\n",
      "--------------------------\n",
      "Enter any number of words by entering each\n",
      "word on a new line. For n words, all words up to\n",
      "the (n-1)th word will sum to equal the nth word.\n",
      "base\n",
      "ball\n",
      "games\n",
      "\n",
      "BASE + BALL = GAMES\n",
      "\n",
      "B=7 A=4 S=8 E=3 L=5 G=1 M=9 \n",
      "\n",
      "Statistics\n",
      "  - status          : OPTIMAL\n",
      "  - conflicts       : 47\n",
      "  - branches        : 50\n",
      "  - wall time       : 0.002477 s\n",
      "  - solutions found : 1\n",
      "--------------------------\n",
      "Enter any number of words by entering each\n",
      "word on a new line. For n words, all words up to\n",
      "the (n-1)th word will sum to equal the nth word.\n",
      "two\n",
      "two\n",
      "four\n",
      "\n",
      "TWO + TWO = FOUR\n",
      "\n",
      "T=7 W=3 O=4 F=1 U=6 R=8 \n",
      "T=8 W=3 O=6 F=1 U=7 R=2 \n",
      "T=7 W=6 O=5 F=1 U=3 R=0 \n",
      "T=8 W=4 O=6 F=1 U=9 R=2 \n",
      "T=8 W=6 O=7 F=1 U=3 R=4 \n",
      "T=9 W=2 O=8 F=1 U=5 R=6 \n",
      "T=9 W=3 O=8 F=1 U=7 R=6 \n",
      "\n",
      "Statistics\n",
      "  - status          : OPTIMAL\n",
      "  - conflicts       : 14\n",
      "  - branches        : 26\n",
      "  - wall time       : 0.005491 s\n",
      "  - solutions found : 7\n",
      "--------------------------\n",
      "Enter any number of words by entering each\n",
      "word on a new line. For n words, all words up to\n",
      "the (n-1)th word will sum to equal the nth word.\n",
      "five\n",
      "two\n",
      "seven\n",
      "\n",
      "FIVE + TWO = SEVEN\n",
      "\n",
      "\n",
      "Statistics\n",
      "  - status          : INFEASIBLE\n",
      "  - conflicts       : 43\n",
      "  - branches        : 47\n",
      "  - wall time       : 0.003613 s\n",
      "  - solutions found : 0\n",
      "--------------------------\n"
     ]
    }
   ],
   "source": [
    "for i in range(4):\n",
    "    cryptarithmetic.cryptarithmetic()\n",
    "    print('--------------------------')"
   ]
  },
  {
   "cell_type": "code",
   "execution_count": null,
   "metadata": {},
   "outputs": [],
   "source": []
  }
 ],
 "metadata": {
  "kernelspec": {
   "display_name": "Python 3",
   "language": "python",
   "name": "python3"
  },
  "language_info": {
   "codemirror_mode": {
    "name": "ipython",
    "version": 3
   },
   "file_extension": ".py",
   "mimetype": "text/x-python",
   "name": "python",
   "nbconvert_exporter": "python",
   "pygments_lexer": "ipython3",
   "version": "3.6.4"
  }
 },
 "nbformat": 4,
 "nbformat_minor": 2
}
